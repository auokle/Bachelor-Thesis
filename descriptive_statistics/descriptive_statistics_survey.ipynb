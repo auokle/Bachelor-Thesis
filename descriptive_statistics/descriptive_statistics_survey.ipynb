{
 "cells": [
  {
   "cell_type": "code",
   "execution_count": null,
   "id": "d9c0848c",
   "metadata": {},
   "outputs": [],
   "source": [
    "import pandas as pd\n",
    "import matplotlib.pyplot as plt\n",
    "from datetime import datetime\n",
    "import numpy as np"
   ]
  },
  {
   "cell_type": "code",
   "execution_count": null,
   "id": "c02815a1",
   "metadata": {},
   "outputs": [],
   "source": [
    "# set to True for CH demographics only\n",
    "only_CH = True"
   ]
  },
  {
   "cell_type": "code",
   "execution_count": null,
   "id": "4f4a2e05",
   "metadata": {},
   "outputs": [],
   "source": [
    "# read in demographics and survey data and sort by user-id\n",
    "\n",
    "df_demo = pd.read_csv(\"../original_data/mhs_demographics_sorted.csv\")\n",
    "df_survey = pd.read_csv(\"../original_data/mhs_survey_sorted.csv\")\n",
    "\n",
    "df_demo = df_demo.sort_values(by=\"USER_ID\", ascending=True)\n",
    "df_survey = df_survey.sort_values(by=\"USER_ID\", ascending=True)\n",
    "df_survey = df_survey.dropna()\n",
    "print(f\"Number of entries in dataset: {len(df_survey)}\")"
   ]
  },
  {
   "cell_type": "code",
   "execution_count": null,
   "id": "3431d082",
   "metadata": {},
   "outputs": [],
   "source": [
    "# inner join of demographics and survey on user-id\n",
    "\n",
    "df_total = pd.merge(df_demo, df_survey, on=\"USER_ID\", how=\"inner\")\n",
    "\n",
    "if (only_CH):\n",
    "    df_total = df_total[df_total['COUNTRY'] == 'CH']\n",
    "    \n",
    "print(f\"Number of entries in dataset: {len(df_total)}\")"
   ]
  },
  {
   "cell_type": "code",
   "execution_count": null,
   "id": "61d903d9",
   "metadata": {},
   "outputs": [],
   "source": [
    "# only keep dates\n",
    "\n",
    "df_dates = df_total.loc[:,[\"USER_ID\", \"FIRST_SUBMISSION_DATE\", \"LAST_SUBMISSION_DATE\", \"SUBMITDATE\"]]\n",
    "\n",
    "df_dates[\"FIRST_SUBMISSION_DATE\"] = pd.to_datetime(df_dates[\"FIRST_SUBMISSION_DATE\"])\n",
    "df_dates[\"LAST_SUBMISSION_DATE\"] = pd.to_datetime(df_dates[\"LAST_SUBMISSION_DATE\"])\n",
    "df_dates[\"SUBMITDATE\"] = pd.to_datetime(df_dates[\"SUBMITDATE\"], format=\"%m/%d/%y\")\n",
    "\n",
    "print(df_dates.head())"
   ]
  },
  {
   "cell_type": "code",
   "execution_count": null,
   "id": "7e41bf37",
   "metadata": {},
   "outputs": [],
   "source": [
    "# count number of entries per user-id, i.e. number of surveys submitted\n",
    "\n",
    "user_counts = df_dates[\"USER_ID\"].value_counts()\n",
    "#print(user_counts)\n",
    "user_counts = df_dates.groupby(\"USER_ID\").size()\n",
    "#print(user_counts)\n",
    "df_user_counts = df_dates[\"USER_ID\"].value_counts().reset_index()\n",
    "df_user_counts.columns = [\"USER_ID\", \"ENTRY_COUNT\"]"
   ]
  },
  {
   "cell_type": "code",
   "execution_count": null,
   "id": "75f685b7",
   "metadata": {},
   "outputs": [],
   "source": [
    "# count how many people have submitted a certain amount of surveys (1 to 14)\n",
    "\n",
    "survey_counts = df_user_counts[\"ENTRY_COUNT\"].value_counts()\n",
    "print(survey_counts)\n",
    "plt.bar(survey_counts.index, survey_counts.values, edgecolor=\"black\")\n",
    "plt.xlabel(\"Number of Surveys filled out\")\n",
    "plt.ylabel(\"Count\")\n",
    "plt.title(\"Histogram of number of surveys\")\n",
    "plt.savefig(\"descriptive_statistics_plots/number_of_surveys_distribution.png\", dpi=300, bbox_inches=\"tight\")\n",
    "plt.show()"
   ]
  },
  {
   "cell_type": "code",
   "execution_count": null,
   "id": "9b42ec5f",
   "metadata": {},
   "outputs": [],
   "source": [
    "# create table of first and last day sleep was recorded together with survey dates and entry counts\n",
    "\n",
    "df_sleep_min_max = pd.read_csv(\"../working_data/sleep_userid_first_last_day.csv\")\n",
    "\n",
    "df = pd.merge(df_sleep_min_max, df_user_counts, on=\"USER_ID\", how=\"inner\")\n",
    "df_surveys = pd.merge(df, df_dates, on=\"USER_ID\", how=\"inner\")\n",
    "df_surveys =df_surveys.drop(columns=[\"FIRST_SUBMISSION_DATE\", \"LAST_SUBMISSION_DATE\"])\n",
    "df_surveys[\"MIN_DAYS\"] = pd.to_datetime(df_surveys[\"MIN_DAYS\"])\n",
    "df_surveys[\"MAX_DAYS\"] = pd.to_datetime(df_surveys[\"MAX_DAYS\"])\n",
    "df_surveys[\"SUBMITDATE\"] = pd.to_datetime(df_surveys[\"SUBMITDATE\"])\n",
    "print(df_surveys.head())"
   ]
  },
  {
   "cell_type": "code",
   "execution_count": null,
   "id": "080facbb",
   "metadata": {},
   "outputs": [],
   "source": [
    "# for each entry create a fraction of when the surveys are done between first and last time sleep was recorded\n",
    "\n",
    "df_surveys[\"FRAC\"] = (df_surveys[\"SUBMITDATE\"] - df_surveys[\"MIN_DAYS\"]) / (df_surveys[\"MAX_DAYS\"] - df_surveys[\"MIN_DAYS\"])\n",
    "df_surveys[\"FRAC\"] = df_surveys[\"FRAC\"].astype(float)\n",
    "print(df_surveys.head())"
   ]
  },
  {
   "cell_type": "code",
   "execution_count": null,
   "id": "8edcb6ba",
   "metadata": {},
   "outputs": [],
   "source": [
    "bins = np.linspace(0, 1, 11)\n",
    "\n",
    "for i in range(1,15):\n",
    "    df = df_surveys[df_surveys[\"ENTRY_COUNT\"] == i]\n",
    "    \n",
    "    plt.hist(df[\"FRAC\"], bins=bins, edgecolor=\"black\")\n",
    "    plt.xlabel(\"Fraction of survey submission date between first and last time sleep was recorded\")\n",
    "    plt.ylabel(\"Frequency\")\n",
    "    plt.title(f\"Relative distribution of survey submission date for {i} surveys submitted\")\n",
    "    \n",
    "    vlines = [(j / (i + 1)) for j in range(1, i + 1)]\n",
    "    for v in vlines:\n",
    "        plt.axvline(v, linestyle='dashed', color='red', alpha=0.7, label=f\"{v:.2f}\")\n",
    "    \n",
    "    plt.savefig(f\"descriptive_statistics_plots/relative_distribution_{i}_surveys.png\", dpi=300, bbox_inches=\"tight\")\n",
    "    plt.show()"
   ]
  }
 ],
 "metadata": {
  "kernelspec": {
   "display_name": "Python 3 (ipykernel)",
   "language": "python",
   "name": "python3"
  },
  "language_info": {
   "codemirror_mode": {
    "name": "ipython",
    "version": 3
   },
   "file_extension": ".py",
   "mimetype": "text/x-python",
   "name": "python",
   "nbconvert_exporter": "python",
   "pygments_lexer": "ipython3",
   "version": "3.9.0"
  }
 },
 "nbformat": 4,
 "nbformat_minor": 5
}
