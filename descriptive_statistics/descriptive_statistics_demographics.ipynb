{
 "cells": [
  {
   "cell_type": "code",
   "execution_count": null,
   "id": "4d4fdc56",
   "metadata": {},
   "outputs": [],
   "source": [
    "import pandas as pd\n",
    "import matplotlib.pyplot as plt\n",
    "import numpy as np\n",
    "from datetime import datetime"
   ]
  },
  {
   "cell_type": "code",
   "execution_count": null,
   "id": "4aa03a5e",
   "metadata": {},
   "outputs": [],
   "source": [
    "# set to True for CH demographics only\n",
    "only_CH = True"
   ]
  },
  {
   "cell_type": "code",
   "execution_count": null,
   "id": "6c0c4e7c",
   "metadata": {},
   "outputs": [],
   "source": [
    "df = pd.read_csv(\"../original_data/mhs_demographics_sorted.csv\")\n",
    "\n",
    "if (only_CH):\n",
    "    df = df[df['COUNTRY'] == 'CH']\n",
    "\n",
    "print(df.head())\n",
    "print(f\"Number of entries in dataset: {len(df)}\")"
   ]
  },
  {
   "cell_type": "code",
   "execution_count": null,
   "id": "8ba3d7c1",
   "metadata": {},
   "outputs": [],
   "source": [
    "df[\"FITNESS_LEVEL\"].value_counts()"
   ]
  },
  {
   "cell_type": "code",
   "execution_count": null,
   "id": "377b8f13",
   "metadata": {},
   "outputs": [],
   "source": [
    "gender_counts = df[\"GENDER\"].value_counts()\n",
    "\n",
    "plt.bar(gender_counts.index, gender_counts.values, edgecolor=\"black\")\n",
    "plt.xlabel(\"Gender\")\n",
    "plt.ylabel(\"Count\")\n",
    "plt.title(\"Gender Distribution\")\n",
    "plt.savefig(\"descriptive_statistics_plots/gender_distribution.png\", dpi=300, bbox_inches=\"tight\")\n",
    "plt.show()\n",
    "\n",
    "print(gender_counts)"
   ]
  },
  {
   "cell_type": "code",
   "execution_count": null,
   "id": "c541f612",
   "metadata": {},
   "outputs": [],
   "source": [
    "if (not only_CH):\n",
    "\n",
    "    country_counts = df[\"COUNTRY\"].value_counts()\n",
    "    \n",
    "    plt.bar(country_counts.index[:10], country_counts.values[:10], edgecolor=\"black\")\n",
    "    plt.xlabel(\"Country\")\n",
    "    plt.ylabel(\"Count\")\n",
    "    plt.title(\"Country Distribution of 10 most frequent countries\")\n",
    "    plt.savefig(\"descriptive_statistics_plots/country_distibution_10_most_frequent.png\", dpi=300, bbox_inches=\"tight\")\n",
    "    plt.show()\n",
    "    \n",
    "    print(country_counts[:20])"
   ]
  },
  {
   "cell_type": "code",
   "execution_count": null,
   "id": "06b7a837",
   "metadata": {},
   "outputs": [],
   "source": [
    "# calculate age based on submission dates\n",
    "\n",
    "df[\"FIRST_SUBMISSION_DATE\"] = pd.to_datetime(df[\"FIRST_SUBMISSION_DATE\"])\n",
    "df[\"LAST_SUBMISSION_DATE\"] = pd.to_datetime(df[\"LAST_SUBMISSION_DATE\"])\n",
    "df[\"BIRTHDAY\"] = pd.to_datetime(df[\"BIRTHDAY\"])\n",
    "\n",
    "df[\"MIDPOINT_DATE\"] = df[\"FIRST_SUBMISSION_DATE\"] + (df[\"LAST_SUBMISSION_DATE\"] - df[\"FIRST_SUBMISSION_DATE\"]) / 2\n",
    "df[\"AGE\"] = df.apply(lambda row: row[\"MIDPOINT_DATE\"].year - row[\"BIRTHDAY\"].year - ((row[\"MIDPOINT_DATE\"].month, row[\"MIDPOINT_DATE\"].day) < (row[\"BIRTHDAY\"].month, row[\"BIRTHDAY\"].day)), axis=1)"
   ]
  },
  {
   "cell_type": "code",
   "execution_count": null,
   "id": "ec8a43e9",
   "metadata": {},
   "outputs": [],
   "source": [
    "age_counts = df[\"AGE\"].value_counts()\n",
    "bins = range(0, df[\"AGE\"].max() + 10, 10)\n",
    "\n",
    "plt.hist(df[\"AGE\"], bins=bins, edgecolor=\"black\")\n",
    "plt.xlabel(\"Age [years]\")\n",
    "plt.ylabel(\"Frequency\")\n",
    "plt.title(\"Age Distribution (10-year intervals)\")\n",
    "plt.savefig(\"descriptive_statistics_plots/age_distribution_10_year_intervals.png\", dpi=300, bbox_inches=\"tight\")\n",
    "plt.show()\n",
    "\n",
    "age_bins = pd.cut(df[\"AGE\"], bins=bins, right=False)\n",
    "age_counts = age_bins.value_counts().sort_index()\n",
    "print(age_counts)"
   ]
  },
  {
   "cell_type": "code",
   "execution_count": null,
   "id": "54985a0e",
   "metadata": {},
   "outputs": [],
   "source": [
    "male_ages = df[df[\"GENDER\"] == \"male\"][\"AGE\"]\n",
    "female_ages = df[df[\"GENDER\"] == \"female\"][\"AGE\"]\n",
    "bins = range(0, df[\"AGE\"].max() + 10, 10)\n",
    "\n",
    "plt.hist([male_ages, female_ages], bins=bins, edgecolor=\"black\", label=[\"male\", \"female\"], alpha=0.7)\n",
    "plt.xlabel(\"Age [years]\")\n",
    "plt.ylabel(\"Frequency\")\n",
    "plt.title(\"Age Distribution by Gender (10-year intervals)\")\n",
    "plt.legend()\n",
    "plt.savefig(\"descriptive_statistics_plots/age_distribution_10_year_intervals_by_gender.png\", dpi=300, bbox_inches=\"tight\")\n",
    "plt.show()"
   ]
  },
  {
   "cell_type": "code",
   "execution_count": null,
   "id": "d64369ed",
   "metadata": {},
   "outputs": [],
   "source": [
    "bins = range(0, df[\"AGE\"].max() + 10, 10)\n",
    "\n",
    "genders = [\"male\", \"female\", \"non-binary\", \"i prefer not to choose\"]\n",
    "gender_ages = {g: df[df[\"GENDER\"] == g][\"AGE\"] for g in genders}\n",
    "\n",
    "plt.figure(figsize=(10, 6))\n",
    "plt.hist(\n",
    "    [gender_ages[g] for g in genders],\n",
    "    bins=bins,\n",
    "    edgecolor=\"black\",\n",
    "    label=genders,\n",
    "    alpha=0.7\n",
    ")\n",
    "plt.xlabel(\"Age [years]\")\n",
    "plt.ylabel(\"Frequency\")\n",
    "plt.title(\"Age Distribution by Gender (10-year intervals)\")\n",
    "plt.legend()\n",
    "plt.savefig(\"descriptive_statistics_plots/age_distribution_10_year_intervals_by_gender.png\", dpi=300, bbox_inches=\"tight\")\n",
    "plt.show()\n",
    "\n",
    "for g in genders:\n",
    "    print(f\"\\n{g.title()} counts by age bin:\")\n",
    "    binned = pd.cut(gender_ages[g], bins=bins, right=False)\n",
    "    print(binned.value_counts().sort_index())"
   ]
  },
  {
   "cell_type": "code",
   "execution_count": null,
   "id": "60dac5b5",
   "metadata": {},
   "outputs": [],
   "source": [
    "gender_counts = df.pivot_table(index=\"AGE\", columns=\"GENDER\", aggfunc=\"size\", fill_value=0)\n",
    "gender_counts = gender_counts.drop(columns=[\"i prefer not to choose\", \"non-binary\"])\n",
    "gender_counts[\"f/m ratio\"] = gender_counts[\"female\"] / gender_counts[\"male\"]\n",
    "gender_counts.replace([float(\"inf\"), float(\"nan\")], None, inplace=True)\n",
    "\n",
    "plt.plot(gender_counts.index, gender_counts[\"f/m ratio\"])\n",
    "plt.xlabel(\"Age [years]\")\n",
    "plt.ylabel(\"female to male ratio\")\n",
    "plt.title(\"Female-to-Male Ratio for each Age (year)\")\n",
    "plt.savefig(\"descriptive_statistics_plots/female_to_male_ratio_year.png\", dpi=300, bbox_inches=\"tight\")\n",
    "plt.show()"
   ]
  },
  {
   "cell_type": "code",
   "execution_count": null,
   "id": "da12fa1f",
   "metadata": {},
   "outputs": [],
   "source": [
    "gender_counts = df.pivot_table(index=\"AGE\", columns=\"GENDER\", aggfunc=\"size\", fill_value=0)\n",
    "gender_counts = gender_counts.drop(columns=[\"i prefer not to choose\", \"non-binary\"])\n",
    "gender_counts[\"Age Group\"] = (gender_counts.index // 10) * 10\n",
    "\n",
    "gender_counts_binned = gender_counts.groupby(\"Age Group\")[[\"female\", \"male\"]].sum()\n",
    "gender_counts_binned[\"f/m ratio\"] = gender_counts[\"female\"] / gender_counts[\"male\"]\n",
    "gender_counts_binned.replace([float(\"inf\"), float(\"nan\")], None, inplace=True)\n",
    "\n",
    "plt.plot(gender_counts_binned.index, gender_counts_binned[\"f/m ratio\"])\n",
    "plt.xlabel(\"Age [years]\")\n",
    "plt.ylabel(\"female to male ratio\")\n",
    "plt.title(\"Female-to-Male Ratio for each 10-Year Age Group)\")\n",
    "plt.savefig(\"descriptive_statistics_plots/female_to_male_ratio_year_10years.png\", dpi=300, bbox_inches=\"tight\")\n",
    "plt.show()"
   ]
  },
  {
   "cell_type": "code",
   "execution_count": null,
   "id": "fde860f4",
   "metadata": {},
   "outputs": [],
   "source": [
    "bin_width = 0.1\n",
    "\n",
    "# create bins for WHOOP_HEIGHT with step of 0.1 meters\n",
    "min_height = df[\"WHOOP_HEIGHT\"].min()\n",
    "max_height = df[\"WHOOP_HEIGHT\"].max()\n",
    "bins = np.arange(min_height, max_height + bin_width, bin_width)\n",
    "\n",
    "\n",
    "plt.hist(df[\"WHOOP_HEIGHT\"], bins=bins, edgecolor=\"black\")\n",
    "plt.xlabel(\"Height [m]\")\n",
    "plt.ylabel(\"Frequency\")\n",
    "#plt.title(\"WHOOP Height Distribution (0.1 m intervals)\")\n",
    "plt.savefig(\"descriptive_statistics_plots/whoop_height_distribution_0.1m_intervals.png\", \n",
    "           dpi=300, bbox_inches='tight', pad_inches=0.1, facecolor='white')\n",
    "plt.show()\n",
    "\n",
    "height_bins = pd.cut(df[\"WHOOP_HEIGHT\"], bins=bins, right=False)\n",
    "height_counts = height_bins.value_counts().sort_index()\n",
    "print(height_counts)"
   ]
  },
  {
   "cell_type": "code",
   "execution_count": null,
   "id": "034f2da0",
   "metadata": {},
   "outputs": [],
   "source": [
    "bin_width = 5\n",
    "\n",
    "# create bins for WHOOP_WEIGHT with step of 5 kg\n",
    "min_WHOOP_WEIGHT = df[\"WHOOP_WEIGHT\"].min()\n",
    "max_WHOOP_WEIGHT = df[\"WHOOP_WEIGHT\"].max()\n",
    "bins = np.arange(min_WHOOP_WEIGHT, max_WHOOP_WEIGHT + bin_width, bin_width)\n",
    "\n",
    "plt.hist(df[\"WHOOP_WEIGHT\"], bins=bins, edgecolor=\"black\")\n",
    "plt.xlabel(\"WHOOP_WEIGHT [kg]\")\n",
    "plt.ylabel(\"Frequency\")\n",
    "#plt.title(\"WHOOP_WEIGHT Distribution (5 kg intervals)\")\n",
    "plt.savefig(\"descriptive_statistics_plots/WHOOP_WEIGHT_distribution_5kg_intervals.png\", \n",
    "           dpi=300, bbox_inches='tight', pad_inches=0.1, facecolor='white')\n",
    "plt.show()\n",
    "\n",
    "WHOOP_WEIGHT_bins = pd.cut(df[\"WHOOP_WEIGHT\"], bins=bins, right=False)\n",
    "WHOOP_WEIGHT_counts = WHOOP_WEIGHT_bins.value_counts().sort_index()\n",
    "print(WHOOP_WEIGHT_counts)"
   ]
  },
  {
   "cell_type": "code",
   "execution_count": null,
   "id": "9fa9ef80",
   "metadata": {},
   "outputs": [],
   "source": [
    "bin_width = 1\n",
    "\n",
    "# create bins for WHOOP_BMI with step of 1\n",
    "min_bmi = df[\"WHOOP_BMI\"].min()\n",
    "max_bmi = df[\"WHOOP_BMI\"].max()\n",
    "bins = np.arange(min_bmi, max_bmi + bin_width, bin_width)\n",
    "\n",
    "plt.hist(df[\"WHOOP_BMI\"], bins=bins, edgecolor=\"black\")\n",
    "plt.xlabel(\"BMI\")\n",
    "plt.ylabel(\"Frequency\")\n",
    "#plt.title(\"WHOOP BMI Distribution (1-unit intervals)\")\n",
    "plt.savefig(\"descriptive_statistics_plots/whoop_bmi_distribution_1unit_intervals.png\", \n",
    "           dpi=300, bbox_inches='tight', pad_inches=0.1, facecolor='white')\n",
    "plt.show()\n",
    "\n",
    "bmi_bins = pd.cut(df[\"WHOOP_BMI\"], bins=bins, right=False)\n",
    "bmi_counts = bmi_bins.value_counts().sort_index()\n",
    "print(bmi_counts)"
   ]
  }
 ],
 "metadata": {
  "kernelspec": {
   "display_name": "Python 3 (ipykernel)",
   "language": "python",
   "name": "python3"
  },
  "language_info": {
   "codemirror_mode": {
    "name": "ipython",
    "version": 3
   },
   "file_extension": ".py",
   "mimetype": "text/x-python",
   "name": "python",
   "nbconvert_exporter": "python",
   "pygments_lexer": "ipython3",
   "version": "3.9.0"
  }
 },
 "nbformat": 4,
 "nbformat_minor": 5
}
