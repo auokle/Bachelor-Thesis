{
 "cells": [
  {
   "cell_type": "code",
   "execution_count": null,
   "id": "ecfd4bf5",
   "metadata": {},
   "outputs": [],
   "source": [
    "import pandas as pd\n",
    "import matplotlib.pyplot as plt\n",
    "from datetime import datetime\n",
    "import numpy as np"
   ]
  },
  {
   "cell_type": "code",
   "execution_count": null,
   "id": "7e6c9e85",
   "metadata": {},
   "outputs": [],
   "source": [
    "df = pd.read_csv(\"working_data/sleep_userid_day.csv\")\n",
    "df[\"LOWER_DAYS\"] = pd.to_datetime(df[\"LOWER_DAYS\"])\n",
    "print(df.head())"
   ]
  },
  {
   "cell_type": "code",
   "execution_count": null,
   "id": "cb3ade56",
   "metadata": {},
   "outputs": [],
   "source": [
    "# find intervals of daily sleep recordings\n",
    "\n",
    "df[\"diff\"] = df.groupby(\"USER_ID\")[\"LOWER_DAYS\"].diff().dt.days.ne(1).cumsum()\n",
    "df_intervals = df.groupby([\"USER_ID\", \"diff\"]).agg(start_interval=(\"LOWER_DAYS\", \"first\"), end_interval=(\"LOWER_DAYS\", \"last\")).reset_index().drop(columns=[\"diff\"])\n",
    "\n",
    "print(df_intervals.head())"
   ]
  },
  {
   "cell_type": "code",
   "execution_count": null,
   "id": "2df53e9d",
   "metadata": {},
   "outputs": [],
   "source": [
    "# find length of intervals\n",
    "\n",
    "df_intervals[\"interval_length\"] = (df_intervals[\"end_interval\"] - df_intervals[\"start_interval\"]).dt.days + 1\n",
    "\n",
    "print(df_intervals.head())"
   ]
  },
  {
   "cell_type": "code",
   "execution_count": null,
   "id": "ccf8164e",
   "metadata": {},
   "outputs": [],
   "source": [
    "# bar chart of intervals\n",
    "\n",
    "interval_counts = df_intervals[\"interval_length\"].value_counts()\n",
    "print(interval_counts[:11])\n",
    "\n",
    "\n",
    "bins = [1, 2, 3, 4, 5, 6, 7, 8, 9, 10, 20, df_intervals[\"interval_length\"].max() + 1]\n",
    "bin_labels = [f\"{bins[i]}-{bins[i+1]-1}\" for i in range(len(bins)-1)]\n",
    "\n",
    "df_intervals[\"bin\"] = pd.cut(df_intervals[\"interval_length\"], bins=bins, labels=bin_labels, right=False)\n",
    "interval_counts = df_intervals[\"bin\"].value_counts().reindex(bin_labels, fill_value=0)\n",
    "\n",
    "\n",
    "plt.bar(interval_counts.index, interval_counts.values, edgecolor=\"black\")\n",
    "plt.xlabel(\"Interval Length (Days)\")\n",
    "plt.ylabel(\"Frequency\")\n",
    "plt.title(\"Distribution of Interval Lengths\")\n",
    "plt.xticks(rotation=45)\n",
    "plt.savefig(f\"descriptive_statistics_plots/interval_length_histogram.png\", dpi=300, bbox_inches=\"tight\")\n",
    "plt.show()"
   ]
  },
  {
   "cell_type": "code",
   "execution_count": null,
   "id": "187ad6d0",
   "metadata": {},
   "outputs": [],
   "source": [
    "# bar chart of intervals smaller and bigger than 7 days\n",
    "\n",
    "bins = [1, 7, df_intervals[\"interval_length\"].max() + 1]\n",
    "bin_labels = [f\"{bins[i]}-{bins[i+1]-1}\" for i in range(len(bins)-1)]\n",
    "\n",
    "df_intervals[\"bin\"] = pd.cut(df_intervals[\"interval_length\"], bins=bins, labels=bin_labels, right=False)\n",
    "interval_counts = df_intervals[\"bin\"].value_counts().reindex(bin_labels, fill_value=0)\n",
    "\n",
    "\n",
    "plt.bar(interval_counts.index, interval_counts.values, edgecolor=\"black\")\n",
    "plt.xlabel(\"Interval Length (Days)\")\n",
    "plt.ylabel(\"Frequency\")\n",
    "plt.title(\"Distribution of Interval Lengths\")\n",
    "plt.xticks(rotation=45)\n",
    "plt.savefig(f\"descriptive_statistics_plots/interval_length_histogram_7_days.png\", dpi=300, bbox_inches=\"tight\")\n",
    "plt.show()"
   ]
  },
  {
   "cell_type": "code",
   "execution_count": null,
   "id": "2ff8da9c",
   "metadata": {},
   "outputs": [],
   "source": [
    "# calculate how many days lie in between intervals, i.e. days missed\n",
    "\n",
    "df_intervals_diff = df_intervals[[\"USER_ID\", \"start_interval\", \"end_interval\", \"interval_length\"]].copy()\n",
    "df_intervals_diff[\"prev_end_interval\"] = df_intervals_diff.groupby(\"USER_ID\")[\"end_interval\"].shift(1)\n",
    "df_intervals_diff[\"prev_interval_diff\"] = (df_intervals_diff[\"start_interval\"] - df_intervals_diff[\"prev_end_interval\"]).dt.days - 1\n",
    "df_intervals_diff[\"prev_interval_diff\"] = df_intervals_diff[\"prev_interval_diff\"].fillna(0).astype(int)\n",
    "df_intervals_diff.drop(columns=[\"prev_end_interval\"], inplace=True)\n",
    "\n",
    "print(df_intervals_diff.head())"
   ]
  },
  {
   "cell_type": "code",
   "execution_count": null,
   "id": "07a84738",
   "metadata": {},
   "outputs": [],
   "source": [
    "# bar chart for days between intervals\n",
    "\n",
    "prev_interval_counts = df_intervals_diff[\"prev_interval_diff\"].value_counts()\n",
    "print(prev_interval_counts[:11])\n",
    "\n",
    "bins = [0, 1, 2, 3, 4, 5, 6, 7, 8, 9, 10, 20, df_intervals_diff[\"prev_interval_diff\"].max() + 1]\n",
    "bin_labels = [f\"{bins[i]}-{bins[i+1]-1}\" for i in range(len(bins)-1)]\n",
    "\n",
    "df_intervals_diff[\"bin\"] = pd.cut(df_intervals_diff[\"prev_interval_diff\"], bins=bins, labels=bin_labels, right=False)\n",
    "prev_interval_counts = df_intervals_diff[\"bin\"].value_counts().reindex(bin_labels, fill_value=0)\n",
    "\n",
    "plt.bar(prev_interval_counts.index, prev_interval_counts.values, edgecolor=\"black\")\n",
    "plt.xlabel(\"Previous Interval Difference (Days)\")\n",
    "plt.ylabel(\"Frequency\")\n",
    "plt.title(\"Distribution of Previous Interval Differences\")\n",
    "plt.xticks(rotation=45)\n",
    "plt.savefig(f\"descriptive_statistics_plots/interval_breaks_length_histogram.png\", dpi=300, bbox_inches=\"tight\")\n",
    "plt.show()"
   ]
  },
  {
   "cell_type": "code",
   "execution_count": null,
   "id": "7d9303c6",
   "metadata": {},
   "outputs": [],
   "source": []
  }
 ],
 "metadata": {
  "kernelspec": {
   "display_name": "Python 3 (ipykernel)",
   "language": "python",
   "name": "python3"
  },
  "language_info": {
   "codemirror_mode": {
    "name": "ipython",
    "version": 3
   },
   "file_extension": ".py",
   "mimetype": "text/x-python",
   "name": "python",
   "nbconvert_exporter": "python",
   "pygments_lexer": "ipython3",
   "version": "3.9.0"
  }
 },
 "nbformat": 4,
 "nbformat_minor": 5
}
