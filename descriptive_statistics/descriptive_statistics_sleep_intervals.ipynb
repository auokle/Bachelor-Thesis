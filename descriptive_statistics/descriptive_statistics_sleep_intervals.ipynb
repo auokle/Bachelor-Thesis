{
 "cells": [
  {
   "cell_type": "code",
   "execution_count": null,
   "id": "81a0c635",
   "metadata": {},
   "outputs": [],
   "source": [
    "import pandas as pd\n",
    "import matplotlib.pyplot as plt\n",
    "from datetime import datetime\n",
    "import numpy as np"
   ]
  },
  {
   "cell_type": "code",
   "execution_count": null,
   "id": "de58ce1e",
   "metadata": {},
   "outputs": [],
   "source": [
    "df = pd.read_csv(\"../working_data/sleep_intervals.csv\")\n",
    "print(f\"Number of nights: {len(df)}\")\n",
    "\n",
    "df_demo = pd.read_csv(\"../original_data/mhs_demographics_sorted.csv\")\n",
    "df_total = pd.merge(df_demo, df, on=\"USER_ID\", how=\"inner\")\n",
    "df_ch = df_total[df_total[\"COUNTRY\"] == \"CH\"]\n",
    "print(f\"Number of nights of Swiss participants: {len(df_ch)}\")"
   ]
  },
  {
   "cell_type": "code",
   "execution_count": null,
   "id": "959cbb15",
   "metadata": {},
   "outputs": [],
   "source": [
    "# set to True if only Swiss dataset should be used\n",
    "only_CH = True\n",
    "\n",
    "if (only_CH):\n",
    "    df = df_ch"
   ]
  },
  {
   "cell_type": "code",
   "execution_count": null,
   "id": "e1bd718d",
   "metadata": {},
   "outputs": [],
   "source": [
    "for i in range(7, 15):\n",
    "    df[f\"interval_{i}\"] = df[\"interval_length\"] // i\n",
    "    df[f\"short_{i}\"] = ((df[\"interval_length\"] < i) | (df[\"interval_length\"] % i != 0)).astype(int)\n",
    "    \n",
    "print(df.head())"
   ]
  },
  {
   "cell_type": "code",
   "execution_count": null,
   "id": "9976b89c",
   "metadata": {},
   "outputs": [],
   "source": [
    "data = {\n",
    "    \"Interval Length (i)\": list(range(7, 15)),\n",
    "    \"Sum of interval_i\": [df[f\"interval_{i}\"].sum() for i in range(7, 15)],\n",
    "    \"Sum of short_i\": [df[f\"short_{i}\"].sum() for i in range(7, 15)]\n",
    "}\n",
    "\n",
    "df_table = pd.DataFrame(data)\n",
    "\n",
    "# Calculate Short/Interval Ratio\n",
    "df_table[\"Short/Interval Ratio\"] = df_table[\"Sum of short_i\"] / df_table[\"Sum of interval_i\"]\n",
    "df_table.replace([float(\"inf\"), float(\"nan\")], 0, inplace=True)  # Handle division by zero\n",
    "\n",
    "# Print the table\n",
    "print(df_table.to_string(index=False))\n",
    "\n",
    "# Plot the grouped bar chart\n",
    "labels = df_table[\"Interval Length (i)\"].astype(str)\n",
    "interval_sums = df_table[\"Sum of interval_i\"]\n",
    "short_sums = df_table[\"Sum of short_i\"]\n",
    "\n",
    "x = np.arange(len(labels)) # Bar positions\n",
    "width = 0.4 # Bar width\n",
    "\n",
    "plt.figure(figsize=(8, 5))  # Set figure size\n",
    "plt.bar(x - width/2, interval_sums, width=width, label=\"Sum of interval_i\", edgecolor=\"black\")\n",
    "plt.bar(x + width/2, short_sums, width=width, label=\"Sum of short_i\", edgecolor=\"black\")\n",
    "\n",
    "plt.xticks(x, labels)\n",
    "plt.xlabel(\"Interval Length (i)\")\n",
    "plt.ylabel(\"Count\")\n",
    "plt.title(\"Number of usable intervals and too short ones based on interval length\")\n",
    "plt.legend()\n",
    "plt.savefig(f\"descriptive_statistics_plots/number_of_intervals_based_on_length.png\", dpi=300, bbox_inches=\"tight\")\n",
    "plt.show()"
   ]
  },
  {
   "cell_type": "code",
   "execution_count": null,
   "id": "372c73b4",
   "metadata": {},
   "outputs": [],
   "source": [
    "# find how many intervals of length 7 each user has and plot it\n",
    "\n",
    "user_sums = df.groupby('USER_ID')['interval_7'].sum()\n",
    "\n",
    "plt.hist(user_sums, bins=10, edgecolor='black')\n",
    "plt.title('Histogram of intervals of length 7 days per user')\n",
    "plt.xlabel('Number of intervals')\n",
    "plt.ylabel('Number of Users')\n",
    "plt.savefig(f\"descriptive_statistics_plots/hist_number_of_intervals_per_user.png\", dpi=300)\n",
    "plt.show()"
   ]
  }
 ],
 "metadata": {
  "kernelspec": {
   "display_name": "Python 3 (ipykernel)",
   "language": "python",
   "name": "python3"
  },
  "language_info": {
   "codemirror_mode": {
    "name": "ipython",
    "version": 3
   },
   "file_extension": ".py",
   "mimetype": "text/x-python",
   "name": "python",
   "nbconvert_exporter": "python",
   "pygments_lexer": "ipython3",
   "version": "3.9.0"
  }
 },
 "nbformat": 4,
 "nbformat_minor": 5
}
