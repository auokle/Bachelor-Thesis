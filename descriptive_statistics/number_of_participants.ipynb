{
 "cells": [
  {
   "cell_type": "code",
   "execution_count": null,
   "id": "a4f3b337",
   "metadata": {},
   "outputs": [],
   "source": [
    "import pandas as pd\n",
    "import matplotlib.pyplot as plt\n",
    "from datetime import datetime\n",
    "import numpy as np"
   ]
  },
  {
   "cell_type": "code",
   "execution_count": null,
   "id": "dfe9d26d",
   "metadata": {},
   "outputs": [],
   "source": [
    "df = pd.read_csv(\"../original_data/mhs_sleep_sorted.csv\", usecols=[0, 1])\n",
    "print(f\"Number of nights recorded for whole dataset: {len(df)}\")"
   ]
  },
  {
   "cell_type": "code",
   "execution_count": null,
   "id": "e4e71341",
   "metadata": {},
   "outputs": [],
   "source": [
    "df_total = pd.read_csv(\"../working_data/mhs_sleep_ch.csv\")\n",
    "print(f\"Number of nights recorded for Swiss participants: {len(df_total)}\")"
   ]
  },
  {
   "cell_type": "code",
   "execution_count": null,
   "id": "13ce1a01",
   "metadata": {},
   "outputs": [],
   "source": [
    "df_survey = pd.read_csv(\"../original_data/mhs_survey_sorted.csv\", usecols=[0, 1])\n",
    "print(f\"Number of surveys recorded for whole dataset: {len(df_survey)}\")\n",
    "\n",
    "df_demo = pd.read_csv(\"../original_data/mhs_demographics_sorted.csv\", usecols=['USER_ID', 'COUNTRY'])\n",
    "df_demo = df_demo[df_demo['COUNTRY'] == \"CH\"]\n",
    "df_total = pd.merge(df_demo, df_survey, on=\"USER_ID\", how=\"inner\")\n",
    "print(f\"Number of surveys recorded for Swiss participants: {len(df_total)}\")"
   ]
  }
 ],
 "metadata": {
  "kernelspec": {
   "display_name": "Python 3 (ipykernel)",
   "language": "python",
   "name": "python3"
  },
  "language_info": {
   "codemirror_mode": {
    "name": "ipython",
    "version": 3
   },
   "file_extension": ".py",
   "mimetype": "text/x-python",
   "name": "python",
   "nbconvert_exporter": "python",
   "pygments_lexer": "ipython3",
   "version": "3.9.0"
  }
 },
 "nbformat": 4,
 "nbformat_minor": 5
}
