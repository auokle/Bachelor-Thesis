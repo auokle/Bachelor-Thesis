{
 "cells": [
  {
   "cell_type": "code",
   "execution_count": null,
   "id": "3add7603",
   "metadata": {},
   "outputs": [],
   "source": [
    "from scipy.stats import pearsonr\n",
    "import numpy as np\n",
    "import pandas as pd\n",
    "import itertools"
   ]
  },
  {
   "cell_type": "code",
   "execution_count": null,
   "id": "46b6db25",
   "metadata": {},
   "outputs": [],
   "source": [
    "# parameters\n",
    "clustering_method = \"HAC\" # out of {\"GMM\", \"HAC\"}\n",
    "correlation_threshold = 0.8\n",
    "dim_red_method = \"umap\" # out of {\"umap\", \"pca\", \"tsne\"}\n",
    "dim_red_method_upper = dim_red_method.upper()\n",
    "perplexity = 50 # t-SNE only\n",
    "group = \"all\" # out of {\"male\", \"female\", \"all\"}\n",
    "best_n_components = 3 # found in GMM and HAC clustering\n",
    "survey_category = \"stress\" # out of {\"stress\", \"depression\", \"needs\"}"
   ]
  },
  {
   "cell_type": "code",
   "execution_count": null,
   "id": "78cecb18",
   "metadata": {},
   "outputs": [],
   "source": [
    "# load labels from clustering and uncorrelated features\n",
    "\n",
    "if dim_red_method == \"tsne\":\n",
    "    label_path = (\n",
    "        f\"working_data/cluster_labels/\"\n",
    "        f\"{clustering_method}_labels_{best_n_components}_clusters_on_\"\n",
    "        f\"{dim_red_method_upper}_correlation_threshold_{correlation_threshold}\"\n",
    "        f\"_perplexity_{perplexity}_{group}_{survey_category}.csv\"\n",
    "    )\n",
    "else:\n",
    "    label_path = (\n",
    "        f\"working_data/cluster_labels/\"\n",
    "        f\"{clustering_method}_labels_{best_n_components}_clusters_on_\"\n",
    "        f\"{dim_red_method_upper}_correlation_threshold_{correlation_threshold}\"\n",
    "        f\"_{group}_{survey_category}.csv\"\n",
    "    )\n",
    "    \n",
    "df_clusters = pd.read_csv(label_path)\n",
    "df_clusters['WEEK_START'] = pd.to_datetime(df_clusters['WEEK_START'])\n",
    "\n",
    "df_features = pd.read_csv(f\"working_data/mhs_sleep_weekly_uncorr_features_correlation_threshold_{correlation_threshold}_{group}_{survey_category}.csv\")\n",
    "df_features = df_features.dropna()\n",
    "df_features['WEEK_START'] = pd.to_datetime(df_features['WEEK_START'])\n",
    "\n",
    "id_cols = [\"USER_ID\", \"WEEK_START\"]"
   ]
  },
  {
   "cell_type": "code",
   "execution_count": null,
   "id": "59311672",
   "metadata": {},
   "outputs": [],
   "source": [
    "# for HAC the cluster labels have to be changed to be similar to GMM, see file external_validation_GMM_HAC as a reference\n",
    "# and visualization\n",
    "\n",
    "if (clustering_method == \"HAC\"):\n",
    "    if (survey_category == \"stress\"):\n",
    "        #df_clusters['cluster_label'] = df_clusters['cluster_label'].replace({1: 2, 2: 1})\n",
    "        pass\n",
    "    elif (survey_category == \"depression\"):\n",
    "        df_clusters['cluster_label'] = df_clusters['cluster_label'].replace({2: 3, 3: 2})\n",
    "        pass\n",
    "    else: # needs\n",
    "        #df_clusters['cluster_label'] = df_clusters['cluster_label'].replace({2: 3, 3: 2})\n",
    "        pass"
   ]
  },
  {
   "cell_type": "code",
   "execution_count": null,
   "id": "baf49b44",
   "metadata": {},
   "outputs": [],
   "source": [
    "# merge labels and features\n",
    "\n",
    "df_corr = df_features.merge(df_clusters, on=id_cols, how='inner', validate='many_to_many')\n",
    "df_corr.drop(columns=[\"UMAP_1\", \"UMAP_2\"], inplace=True)"
   ]
  },
  {
   "cell_type": "code",
   "execution_count": null,
   "id": "1fd3d53b",
   "metadata": {},
   "outputs": [],
   "source": [
    "# permutation based algorithm\n",
    "# cluster labels are interpreted numerically and a correlation is computed for all combinations of cluster values\n",
    "# for each feature\n",
    "\n",
    "df_corr['cluster_label'] = df_corr['cluster_label'].replace({1: 'x', 2: 'y', 3: 'z'})\n",
    "\n",
    "feature_cols = [c for c in df_corr.columns if c not in ['USER_ID','WEEK_START','cluster_label']]\n",
    "\n",
    "perms = list(itertools.permutations([1,2,3]))\n",
    "labels = ['x','y','z']\n",
    "\n",
    "records = []\n",
    "\n",
    "for feat in feature_cols:\n",
    "    best = {'corr': 0, 'mapping': None}\n",
    "    for p in perms:\n",
    "        m = dict(zip(labels, p))\n",
    "        # map the textual clusters to numbers\n",
    "        encoded = df_corr['cluster_label'].map(m)\n",
    "        # compute Pearson r\n",
    "        r = df_corr[feat].corr(encoded)\n",
    "        if r > best['corr']:\n",
    "            best['corr']    = r\n",
    "            best['mapping'] = m\n",
    "    records.append({\n",
    "        'feature': feat,\n",
    "        'best_corr': best['corr'],\n",
    "        'best_map': best['mapping']\n",
    "    })\n",
    "    \n",
    "results = pd.DataFrame(records)\n",
    "results.sort_values(by='best_corr', ascending=False, inplace=True)\n",
    "results.reset_index(drop=True, inplace=True)\n",
    "print(results)"
   ]
  }
 ],
 "metadata": {
  "kernelspec": {
   "display_name": "Python 3 (ipykernel)",
   "language": "python",
   "name": "python3"
  },
  "language_info": {
   "codemirror_mode": {
    "name": "ipython",
    "version": 3
   },
   "file_extension": ".py",
   "mimetype": "text/x-python",
   "name": "python",
   "nbconvert_exporter": "python",
   "pygments_lexer": "ipython3",
   "version": "3.9.0"
  }
 },
 "nbformat": 4,
 "nbformat_minor": 5
}
