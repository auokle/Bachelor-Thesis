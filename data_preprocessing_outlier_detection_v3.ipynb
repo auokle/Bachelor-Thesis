{
 "cells": [
  {
   "cell_type": "code",
   "execution_count": null,
   "id": "0120bcdc",
   "metadata": {},
   "outputs": [],
   "source": [
    "import pandas as pd\n",
    "import matplotlib.pyplot as plt\n",
    "from datetime import datetime\n",
    "import numpy as np"
   ]
  },
  {
   "cell_type": "code",
   "execution_count": null,
   "id": "dff2ff92",
   "metadata": {},
   "outputs": [],
   "source": [
    "df = pd.read_csv(\"working_data/mhs_sleep_ch.csv\")\n",
    "df = df[df['GENDER'].isin(['male', 'female'])]\n",
    "df = df.drop([\"AGE\", \"COUNTRY\", \"FITNESS_LEVEL\", \"WHOOP_HEIGHT\", \"WHOOP_WEIGHT\", \"WHOOP_BMI\", 'SLEEP_START_LOCAL', 'SLEEP_END_LOCAL', 'GENDER'], axis=1)\n",
    "print(df.columns.tolist)\n",
    "print(len(df))"
   ]
  },
  {
   "cell_type": "code",
   "execution_count": null,
   "id": "38878dbd",
   "metadata": {},
   "outputs": [],
   "source": [
    "df = df.dropna()\n",
    "print(len(df))\n",
    "\n",
    "# variables to drop because they don't seem necessary or reliable\n",
    "print(len(df.columns))\n",
    "df = df.drop([\"SLEEP_PERFORMANCE_SCORE\", \"TIME_IN_BED_MINUTES\", \"SLEEP_DEBT_MINUTES\", \"SLEEP_NEED_MINUTES\", \"RECOVERY_SCORE\", \"SCALED_DAY_STRAIN\", \"DAY_STRAIN\"], axis=1)\n",
    "print(len(df.columns))\n",
    "print(df.columns.tolist)"
   ]
  },
  {
   "cell_type": "code",
   "execution_count": null,
   "id": "419a1998",
   "metadata": {},
   "outputs": [],
   "source": [
    "# logarithmic histograms to identify outliers\n",
    "\n",
    "columns = df.columns[2:]\n",
    "\n",
    "for col in columns:\n",
    "    if col in df.columns:\n",
    "        plt.figure(figsize=(6, 4))\n",
    "        df[col].dropna().hist(bins=30, edgecolor='black', log=True)\n",
    "        plt.title(f'Histogram of {col}')\n",
    "        plt.xlabel(col)\n",
    "        plt.ylabel('Log Frequency')\n",
    "        plt.grid(True)\n",
    "        plt.tight_layout()\n",
    "        plt.show()\n",
    "        plt.close()"
   ]
  },
  {
   "cell_type": "code",
   "execution_count": null,
   "id": "4bb264b2",
   "metadata": {},
   "outputs": [],
   "source": [
    "# linear histograms to identify outliers\n",
    "\n",
    "columns = df.columns[2:]\n",
    "\n",
    "for col in columns:\n",
    "    if col in df.columns:\n",
    "        plt.figure(figsize=(6, 4))\n",
    "        df[col].dropna().hist(bins=30, edgecolor='black', log=False)\n",
    "        plt.ylim(top=500)\n",
    "        plt.title(f'Histogram of {col}')\n",
    "        plt.xlabel(col)\n",
    "        plt.ylabel('Frequency')\n",
    "        plt.grid(True)\n",
    "        plt.tight_layout()\n",
    "        plt.show()\n",
    "        plt.close()"
   ]
  },
  {
   "cell_type": "code",
   "execution_count": null,
   "id": "d2b6c07d",
   "metadata": {},
   "outputs": [],
   "source": [
    "# define bounds by inspecting the histograms\n",
    "\n",
    "bounds = {\n",
    "    'SLEEP_LATENCY': (0, 75),\n",
    "    'RESTING_HEART_RATE': (30, 100),\n",
    "    'HRV': (10, 200),\n",
    "    'SLEEP_EFFICIENCY': (45, 100),\n",
    "    'MINUTES_OF_SLEEP': (0, 750),\n",
    "    'LIGHT_SLEEP_DURATION_MINUTES': (0, 550),\n",
    "    'LIGHT_SLEEP_PERCENT': (0, 1),\n",
    "    'REM_SLEEP_DURATION_MINUTES': (0, 290),\n",
    "    'REM_SLEEP_PERCENT': (0, 1),\n",
    "    'SLOW_WAVE_SLEEP_DURATION_MINUTES': (0, 190),\n",
    "    'SLOW_WAVE_SLEEP_PERCENT': (0, 1),\n",
    "    'WAKE_DURATION_MINUTES': (0, 300),\n",
    "    'WAKE_DURATION_PERCENT': (0, 1),\n",
    "    'RESTORATIVE_SLEEP_MINUTES': (0, 440),\n",
    "    'RESTORATIVE_SLEEP_PERCENT': (0, 1),\n",
    "    'DISTURBANCES': (0, 35),\n",
    "    'AROUSAL_TIME_MINUTES': (0, 80),\n",
    "    'CALORIES_BURNED': (0, 7200),\n",
    "    'DAY_AVG_HEART_RATE': (42, 105),\n",
    "    'DAY_MAX_HEART_RATE': (80, 210),\n",
    "}"
   ]
  },
  {
   "cell_type": "code",
   "execution_count": null,
   "id": "044805dd",
   "metadata": {},
   "outputs": [],
   "source": [
    "# remove datapoints that are out of bounds\n",
    "\n",
    "for col, (min_val, max_val) in bounds.items():\n",
    "    if col in df.columns:\n",
    "        df = df[(df[col] >= min_val) & (df[col] <= max_val)]"
   ]
  },
  {
   "cell_type": "code",
   "execution_count": null,
   "id": "5618632f",
   "metadata": {},
   "outputs": [],
   "source": [
    "print(len(df))"
   ]
  },
  {
   "cell_type": "code",
   "execution_count": null,
   "id": "2eaa1299",
   "metadata": {},
   "outputs": [],
   "source": [
    "# check outlier-free data\n",
    "\n",
    "columns = df.columns[2:]\n",
    "\n",
    "for col in columns:\n",
    "    if col in df.columns:\n",
    "        plt.figure(figsize=(6, 4))\n",
    "        df[col].dropna().hist(bins=30, edgecolor='black', log=True)\n",
    "        plt.title(f'Histogram of {col}')\n",
    "        plt.xlabel(col)\n",
    "        plt.ylabel('Log Frequency')\n",
    "        plt.grid(True)\n",
    "        plt.tight_layout()\n",
    "        plt.show()\n",
    "        plt.close()"
   ]
  },
  {
   "cell_type": "code",
   "execution_count": null,
   "id": "ce40a400",
   "metadata": {},
   "outputs": [],
   "source": [
    "df.to_csv(\"working_data/mhs_sleep_ch_without_outliers.csv\", index=False)"
   ]
  }
 ],
 "metadata": {
  "kernelspec": {
   "display_name": "Python 3 (ipykernel)",
   "language": "python",
   "name": "python3"
  },
  "language_info": {
   "codemirror_mode": {
    "name": "ipython",
    "version": 3
   },
   "file_extension": ".py",
   "mimetype": "text/x-python",
   "name": "python",
   "nbconvert_exporter": "python",
   "pygments_lexer": "ipython3",
   "version": "3.9.0"
  }
 },
 "nbformat": 4,
 "nbformat_minor": 5
}
