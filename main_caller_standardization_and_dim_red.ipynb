{
 "cells": [
  {
   "cell_type": "code",
   "execution_count": null,
   "id": "01dcc21c",
   "metadata": {},
   "outputs": [],
   "source": [
    "from standardize_and_dim_red import standardize_and_dim_red\n",
    "\n",
    "dim_red_methods = ['umap'] # from 'umap', 'pca', 'tsne'\n",
    "correlation_thresholds = [0.8]\n",
    "perplexities = [50]\n",
    "standardizations = [True]\n",
    "force_recreate = True\n",
    "\n",
    "groups = ['all'] # from 'all', 'male', 'female'\n",
    "survey_categories = ['stress', 'depression', 'needs']\n",
    "\n",
    "for method in dim_red_methods:\n",
    "    for correlation_threshold in correlation_thresholds:\n",
    "        for standardization in standardizations:\n",
    "            for group in groups:\n",
    "                for survey_category in survey_categories:\n",
    "                    if method == 'tsne':\n",
    "                        for perplexity in perplexities:\n",
    "                            standardize_and_dim_red(method=method,\n",
    "                                                    correlation_threshold=correlation_threshold,\n",
    "                                                    perplexity=perplexity,\n",
    "                                                    standardization=standardization,\n",
    "                                                    group=group,\n",
    "                                                    survey_category=survey_category,\n",
    "                                                    force_recreate=force_recreate)\n",
    "                    else:\n",
    "                        standardize_and_dim_red(method=method,\n",
    "                                                correlation_threshold=correlation_threshold,\n",
    "                                                perplexity=0,\n",
    "                                                standardization=standardization,\n",
    "                                                group=group,\n",
    "                                                survey_category=survey_category,\n",
    "                                                force_recreate=force_recreate)\n",
    "    "
   ]
  }
 ],
 "metadata": {
  "kernelspec": {
   "display_name": "Python 3 (ipykernel)",
   "language": "python",
   "name": "python3"
  },
  "language_info": {
   "codemirror_mode": {
    "name": "ipython",
    "version": 3
   },
   "file_extension": ".py",
   "mimetype": "text/x-python",
   "name": "python",
   "nbconvert_exporter": "python",
   "pygments_lexer": "ipython3",
   "version": "3.9.0"
  }
 },
 "nbformat": 4,
 "nbformat_minor": 5
}
