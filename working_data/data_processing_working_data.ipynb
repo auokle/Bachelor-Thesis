{
 "cells": [
  {
   "cell_type": "code",
   "execution_count": null,
   "id": "7a920c78",
   "metadata": {},
   "outputs": [],
   "source": [
    "import pandas as pd\n",
    "import matplotlib.pyplot as plt\n",
    "from datetime import datetime"
   ]
  },
  {
   "cell_type": "code",
   "execution_count": null,
   "id": "0c36f346",
   "metadata": {},
   "outputs": [],
   "source": [
    "# create file with first and last day of sleep tracking per user\n",
    "\n",
    "df_sleep = pd.read_csv(\"working_data/sleep_userid_day.csv\")\n",
    "df_sleep[\"LOWER_DAYS\"] = pd.to_datetime(df_sleep[\"LOWER_DAYS\"])\n",
    "df_min_max = df_sleep.groupby(\"USER_ID\")[\"LOWER_DAYS\"].agg([\"min\", \"max\"]).reset_index()\n",
    "df_min_max.columns = [\"USER_ID\", \"MIN_DAYS\", \"MAX_DAYS\"]\n",
    "print(df_min_max.head())\n",
    "df_min_max.to_csv(\"working_data/sleep_userid_first_last_day.csv\", index=False)"
   ]
  },
  {
   "cell_type": "code",
   "execution_count": null,
   "id": "053df695",
   "metadata": {},
   "outputs": [],
   "source": [
    "# find intervals of daily sleep recordings and measure length of interval\n",
    "\n",
    "df = pd.read_csv(\"working_data/sleep_userid_day.csv\")\n",
    "df[\"LOWER_DAYS\"] = pd.to_datetime(df[\"LOWER_DAYS\"])\n",
    "\n",
    "df[\"diff\"] = df.groupby(\"USER_ID\")[\"LOWER_DAYS\"].diff().dt.days.ne(1).cumsum()\n",
    "df_intervals = df.groupby([\"USER_ID\", \"diff\"]).agg(start_interval=(\"LOWER_DAYS\", \"first\"), end_interval=(\"LOWER_DAYS\", \"last\")).reset_index().drop(columns=[\"diff\"])\n",
    "\n",
    "df_intervals[\"interval_length\"] = (df_intervals[\"end_interval\"] - df_intervals[\"start_interval\"]).dt.days + 1\n",
    "\n",
    "df_intervals.to_csv(\"working_data/sleep_intervals.csv\", index=False)"
   ]
  },
  {
   "cell_type": "code",
   "execution_count": null,
   "id": "e38dab45",
   "metadata": {},
   "outputs": [],
   "source": [
    "# create list of user id based in Switzerland\n",
    "\n",
    "df = pd.read_csv(\"../original_data/mhs_demographics_sorted.csv\")\n",
    "df_country = df[df[\"COUNTRY\"] == \"CH\"]\n",
    "\n",
    "user_ids = df_country['USER_ID'].unique()\n",
    "\n",
    "filtered_rows = []\n",
    "\n",
    "for chunk in pd.read_csv(\"../original_data/mhs_sleep_sorted.csv\", chunksize=10000):\n",
    "    filtered = chunk[chunk['USER_ID'].isin(user_ids)]\n",
    "    filtered_rows.append(filtered)\n",
    "\n",
    "df_filtered = pd.concat(filtered_rows, ignore_index=True)\n",
    "print(len(df_filtered))"
   ]
  },
  {
   "cell_type": "code",
   "execution_count": null,
   "id": "fc7c889b",
   "metadata": {},
   "outputs": [],
   "source": [
    "# remove unused data\n",
    "\n",
    "df = pd.read_csv(\"working_data/demographics_with_age.csv\")\n",
    "df_total = pd.merge(df_filtered, df, on=\"USER_ID\", how=\"inner\")\n",
    "# columns dropped because they will not be used\n",
    "df_total.drop([\"AUTO_DETECTED\", \"ADMIN_DIVISION\", \"CITY\", \"MIDPOINT_DATE\", \"BIRTHDAY\", \"FIRST_SUBMISSION_DATE\", \"LAST_SUBMISSION_DATE\"], axis=1, inplace=True)\n",
    "# columns dropped because they have NaN values\n",
    "df_total.drop(['SKIN_TEMP_CELSIUS', 'BLOOD_OXYGEN', 'RESPIRATORY_RATE', 'SLEEP_CONSISTENCY'], axis=1, inplace=True)\n",
    "print(df_total.head())\n",
    "df_total.to_csv(\"mhs_sleep_ch.csv\", index=False)"
   ]
  },
  {
   "cell_type": "code",
   "execution_count": null,
   "id": "722d1287",
   "metadata": {},
   "outputs": [],
   "source": [
    "# create survey file without NaN values\n",
    "import pandas as pd\n",
    "\n",
    "df_survey = pd.read_csv(\"../original_data/mhs_survey_sorted.csv\")\n",
    "df_survey = df_survey.dropna()\n",
    "\n",
    "df_survey.to_csv(\"mhs_survey_sorted_without_nan.csv\", index=False)"
   ]
  }
 ],
 "metadata": {
  "kernelspec": {
   "display_name": "Python 3 (ipykernel)",
   "language": "python",
   "name": "python3"
  },
  "language_info": {
   "codemirror_mode": {
    "name": "ipython",
    "version": 3
   },
   "file_extension": ".py",
   "mimetype": "text/x-python",
   "name": "python",
   "nbconvert_exporter": "python",
   "pygments_lexer": "ipython3",
   "version": "3.9.0"
  }
 },
 "nbformat": 4,
 "nbformat_minor": 5
}
